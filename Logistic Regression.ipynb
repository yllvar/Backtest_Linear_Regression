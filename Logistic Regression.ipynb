{
 "cells": [
  {
   "cell_type": "markdown",
   "id": "1588a86b",
   "metadata": {},
   "source": [
    "# Logistic Regression \n",
    "\n",
    "## Model Fitting"
   ]
  },
  {
   "cell_type": "markdown",
   "id": "b11826a4",
   "metadata": {},
   "source": [
    "## Import necessary libraries"
   ]
  },
  {
   "cell_type": "code",
   "execution_count": 1,
   "id": "fbc4a6f7",
   "metadata": {},
   "outputs": [],
   "source": [
    "import pandas as pd\n",
    "import numpy as np\n",
    "from sklearn.linear_model import LogisticRegression\n",
    "from sklearn.preprocessing import MinMaxScaler\n",
    "from talib import BBANDS\n",
    "import matplotlib.pyplot as plt"
   ]
  },
  {
   "cell_type": "markdown",
   "id": "0fcec45d",
   "metadata": {},
   "source": [
    "## Load the CSV file"
   ]
  },
  {
   "cell_type": "code",
   "execution_count": 2,
   "id": "a726da05",
   "metadata": {},
   "outputs": [],
   "source": [
    "# Load the CSV file and parse the \"date\" column as datetime, setting it as the index\n",
    "data = pd.read_csv(\"Kucoin_BTCUSDT_d.csv\", parse_dates=[\"date\"], index_col=\"date\", encoding=\"utf-8\")"
   ]
  },
  {
   "cell_type": "markdown",
   "id": "960e353b",
   "metadata": {},
   "source": [
    "## Print DataFrame header"
   ]
  },
  {
   "cell_type": "code",
   "execution_count": 3,
   "id": "4be9f8c9",
   "metadata": {},
   "outputs": [
    {
     "name": "stdout",
     "output_type": "stream",
     "text": [
      "                  unix    symbol     open     high      low    close  \\\n",
      "date                                                                   \n",
      "2022-11-29  1669680000  BTC/USDT  16213.6  16220.8  16102.4  16168.9   \n",
      "2022-11-28  1669593600  BTC/USDT  16432.1  16483.2  16000.0  16213.5   \n",
      "2022-11-27  1669507200  BTC/USDT  16457.1  16597.1  16403.2  16432.1   \n",
      "2022-11-26  1669420800  BTC/USDT  16520.0  16698.1  16386.1  16456.4   \n",
      "2022-11-25  1669334400  BTC/USDT  16601.7  16618.9  16339.9  16519.9   \n",
      "\n",
      "             Volume BTC   Volume USDT  \n",
      "date                                   \n",
      "2022-11-29   416.112589  6.723410e+06  \n",
      "2022-11-28  9138.216658  1.482121e+08  \n",
      "2022-11-27  4042.719155  6.683389e+07  \n",
      "2022-11-26  5827.814840  9.653858e+07  \n",
      "2022-11-25  6211.076373  1.024305e+08  \n"
     ]
    }
   ],
   "source": [
    "# Print the header of the DataFrame to verify it's loaded correctly\n",
    "print(data.head())"
   ]
  },
  {
   "cell_type": "markdown",
   "id": "317754b9",
   "metadata": {},
   "source": [
    "## Drop the unnecessary columns"
   ]
  },
  {
   "cell_type": "code",
   "execution_count": 4,
   "id": "ee0f1acb",
   "metadata": {},
   "outputs": [],
   "source": [
    "# Define columns to drop\n",
    "columns_to_drop = [\"unix\", \"open\", \"Volume BTC\", \"Volume USDT\"]\n",
    "\n",
    "# Drop columns\n",
    "data.drop(columns=columns_to_drop, inplace=True)\n"
   ]
  },
  {
   "cell_type": "markdown",
   "id": "2ef0f6d0",
   "metadata": {},
   "source": [
    "## Calculate Bollinger Bands"
   ]
  },
  {
   "cell_type": "code",
   "execution_count": 5,
   "id": "e4597fd2",
   "metadata": {},
   "outputs": [],
   "source": [
    "# Compute Bollinger Bands using the closing prices\n",
    "data[\"middle_band\"], data[\"upper_band\"], data[\"lower_band\"] = BBANDS(data[\"close\"], timeperiod=20)"
   ]
  },
  {
   "cell_type": "markdown",
   "id": "be1d734c",
   "metadata": {},
   "source": [
    "## Calculate returns and direction"
   ]
  },
  {
   "cell_type": "code",
   "execution_count": 6,
   "id": "ad524070",
   "metadata": {},
   "outputs": [],
   "source": [
    "data[\"returns\"] = np.log(data[\"close\"]).diff()\n",
    "data[\"direction\"] = np.sign(data.returns)"
   ]
  },
  {
   "cell_type": "markdown",
   "id": "7d5c229b",
   "metadata": {},
   "source": [
    "## Shift returns to create lagged features"
   ]
  },
  {
   "cell_type": "code",
   "execution_count": 7,
   "id": "2b0f447d",
   "metadata": {},
   "outputs": [],
   "source": [
    "lags = 3\n",
    "cols = []\n",
    "for lag in range(1, lags + 1):\n",
    "    col = \"lag{}\".format(lag)\n",
    "    data[col] = data[\"returns\"].shift(lag)\n",
    "    cols.append(col)\n",
    "\n",
    "# Drop rows with missing values\n",
    "data.dropna(inplace=True)"
   ]
  },
  {
   "cell_type": "markdown",
   "id": "03e112fc",
   "metadata": {},
   "source": [
    "## Normalize Bollinger Bands"
   ]
  },
  {
   "cell_type": "code",
   "execution_count": 8,
   "id": "7e8ba74b",
   "metadata": {},
   "outputs": [],
   "source": [
    "scaler = MinMaxScaler()\n",
    "data[[\"middle_band\", \"upper_band\", \"lower_band\"]] = scaler.fit_transform(data[[\"middle_band\", \"upper_band\", \"lower_band\"]])"
   ]
  },
  {
   "cell_type": "markdown",
   "id": "b833ce6e",
   "metadata": {},
   "source": [
    "## Prepare features and target"
   ]
  },
  {
   "cell_type": "code",
   "execution_count": 9,
   "id": "9034d828",
   "metadata": {},
   "outputs": [],
   "source": [
    "X = data[cols + [\"middle_band\", \"upper_band\", \"lower_band\"]]\n",
    "y = data[\"direction\"]"
   ]
  },
  {
   "cell_type": "markdown",
   "id": "2c231b90",
   "metadata": {},
   "source": [
    "## Fit Logistic Regression model\n",
    "1. LogisticRegression is a class from the sklearn.linear_model module, which implements logistic regression for classification problems.\n",
    "2. C=1e6 specifies the regularization strength, where a larger value of C indicates less regularization. In this case, C=1e6 means a very small amount of regularization.\n",
    "3. max_iter=100000 sets the maximum number of iterations for the solver to converge. Since logistic regression is an iterative optimization algorithm, max_iter determines the maximum number of iterations before the algorithm stops.\n",
    "4. multi_class=\"ovr\" specifies the strategy for handling multiple classes. In this case, it stands for \"One-vs-Rest,\" which means the model will fit separate classifiers for each class, treating each class as the positive class and the rest as the negative class."
   ]
  },
  {
   "cell_type": "code",
   "execution_count": 10,
   "id": "d3c9a360",
   "metadata": {},
   "outputs": [
    {
     "data": {
      "text/html": [
       "<style>#sk-container-id-1 {color: black;}#sk-container-id-1 pre{padding: 0;}#sk-container-id-1 div.sk-toggleable {background-color: white;}#sk-container-id-1 label.sk-toggleable__label {cursor: pointer;display: block;width: 100%;margin-bottom: 0;padding: 0.3em;box-sizing: border-box;text-align: center;}#sk-container-id-1 label.sk-toggleable__label-arrow:before {content: \"▸\";float: left;margin-right: 0.25em;color: #696969;}#sk-container-id-1 label.sk-toggleable__label-arrow:hover:before {color: black;}#sk-container-id-1 div.sk-estimator:hover label.sk-toggleable__label-arrow:before {color: black;}#sk-container-id-1 div.sk-toggleable__content {max-height: 0;max-width: 0;overflow: hidden;text-align: left;background-color: #f0f8ff;}#sk-container-id-1 div.sk-toggleable__content pre {margin: 0.2em;color: black;border-radius: 0.25em;background-color: #f0f8ff;}#sk-container-id-1 input.sk-toggleable__control:checked~div.sk-toggleable__content {max-height: 200px;max-width: 100%;overflow: auto;}#sk-container-id-1 input.sk-toggleable__control:checked~label.sk-toggleable__label-arrow:before {content: \"▾\";}#sk-container-id-1 div.sk-estimator input.sk-toggleable__control:checked~label.sk-toggleable__label {background-color: #d4ebff;}#sk-container-id-1 div.sk-label input.sk-toggleable__control:checked~label.sk-toggleable__label {background-color: #d4ebff;}#sk-container-id-1 input.sk-hidden--visually {border: 0;clip: rect(1px 1px 1px 1px);clip: rect(1px, 1px, 1px, 1px);height: 1px;margin: -1px;overflow: hidden;padding: 0;position: absolute;width: 1px;}#sk-container-id-1 div.sk-estimator {font-family: monospace;background-color: #f0f8ff;border: 1px dotted black;border-radius: 0.25em;box-sizing: border-box;margin-bottom: 0.5em;}#sk-container-id-1 div.sk-estimator:hover {background-color: #d4ebff;}#sk-container-id-1 div.sk-parallel-item::after {content: \"\";width: 100%;border-bottom: 1px solid gray;flex-grow: 1;}#sk-container-id-1 div.sk-label:hover label.sk-toggleable__label {background-color: #d4ebff;}#sk-container-id-1 div.sk-serial::before {content: \"\";position: absolute;border-left: 1px solid gray;box-sizing: border-box;top: 0;bottom: 0;left: 50%;z-index: 0;}#sk-container-id-1 div.sk-serial {display: flex;flex-direction: column;align-items: center;background-color: white;padding-right: 0.2em;padding-left: 0.2em;position: relative;}#sk-container-id-1 div.sk-item {position: relative;z-index: 1;}#sk-container-id-1 div.sk-parallel {display: flex;align-items: stretch;justify-content: center;background-color: white;position: relative;}#sk-container-id-1 div.sk-item::before, #sk-container-id-1 div.sk-parallel-item::before {content: \"\";position: absolute;border-left: 1px solid gray;box-sizing: border-box;top: 0;bottom: 0;left: 50%;z-index: -1;}#sk-container-id-1 div.sk-parallel-item {display: flex;flex-direction: column;z-index: 1;position: relative;background-color: white;}#sk-container-id-1 div.sk-parallel-item:first-child::after {align-self: flex-end;width: 50%;}#sk-container-id-1 div.sk-parallel-item:last-child::after {align-self: flex-start;width: 50%;}#sk-container-id-1 div.sk-parallel-item:only-child::after {width: 0;}#sk-container-id-1 div.sk-dashed-wrapped {border: 1px dashed gray;margin: 0 0.4em 0.5em 0.4em;box-sizing: border-box;padding-bottom: 0.4em;background-color: white;}#sk-container-id-1 div.sk-label label {font-family: monospace;font-weight: bold;display: inline-block;line-height: 1.2em;}#sk-container-id-1 div.sk-label-container {text-align: center;}#sk-container-id-1 div.sk-container {/* jupyter's `normalize.less` sets `[hidden] { display: none; }` but bootstrap.min.css set `[hidden] { display: none !important; }` so we also need the `!important` here to be able to override the default hidden behavior on the sphinx rendered scikit-learn.org. See: https://github.com/scikit-learn/scikit-learn/issues/21755 */display: inline-block !important;position: relative;}#sk-container-id-1 div.sk-text-repr-fallback {display: none;}</style><div id=\"sk-container-id-1\" class=\"sk-top-container\"><div class=\"sk-text-repr-fallback\"><pre>LogisticRegression(C=1000000.0, max_iter=100000, multi_class=&#x27;ovr&#x27;)</pre><b>In a Jupyter environment, please rerun this cell to show the HTML representation or trust the notebook. <br />On GitHub, the HTML representation is unable to render, please try loading this page with nbviewer.org.</b></div><div class=\"sk-container\" hidden><div class=\"sk-item\"><div class=\"sk-estimator sk-toggleable\"><input class=\"sk-toggleable__control sk-hidden--visually\" id=\"sk-estimator-id-1\" type=\"checkbox\" checked><label for=\"sk-estimator-id-1\" class=\"sk-toggleable__label sk-toggleable__label-arrow\">LogisticRegression</label><div class=\"sk-toggleable__content\"><pre>LogisticRegression(C=1000000.0, max_iter=100000, multi_class=&#x27;ovr&#x27;)</pre></div></div></div></div></div>"
      ],
      "text/plain": [
       "LogisticRegression(C=1000000.0, max_iter=100000, multi_class='ovr')"
      ]
     },
     "execution_count": 10,
     "metadata": {},
     "output_type": "execute_result"
    }
   ],
   "source": [
    "lm = LogisticRegression(C=1e6, max_iter=100000, multi_class=\"ovr\")\n",
    "lm.fit(X, y)"
   ]
  },
  {
   "cell_type": "markdown",
   "id": "bb3a607a",
   "metadata": {},
   "source": [
    "## Make predictions"
   ]
  },
  {
   "cell_type": "code",
   "execution_count": 11,
   "id": "9a5d7a22",
   "metadata": {},
   "outputs": [],
   "source": [
    "# Make predictions\n",
    "data[\"pred\"] = lm.predict(X)"
   ]
  },
  {
   "cell_type": "markdown",
   "id": "db9c0f66",
   "metadata": {},
   "source": [
    "## Convert datetime index to numerical values"
   ]
  },
  {
   "cell_type": "code",
   "execution_count": 12,
   "id": "ab8c0778",
   "metadata": {},
   "outputs": [],
   "source": [
    "numeric_index = range(len(data))"
   ]
  },
  {
   "cell_type": "markdown",
   "id": "fdb36fb5",
   "metadata": {},
   "source": [
    "## Print the DataFrame"
   ]
  },
  {
   "cell_type": "code",
   "execution_count": 13,
   "id": "db808692",
   "metadata": {},
   "outputs": [
    {
     "name": "stdout",
     "output_type": "stream",
     "text": [
      "            direction  pred\n",
      "date                       \n",
      "2022-11-10        1.0   1.0\n",
      "2022-11-09       -1.0   1.0\n",
      "2022-11-08        1.0   1.0\n",
      "2022-11-07        1.0  -1.0\n",
      "2022-11-06        1.0   1.0\n",
      "...               ...   ...\n",
      "2017-10-23        1.0  -1.0\n",
      "2017-10-22        1.0  -1.0\n",
      "2017-10-21       -1.0   1.0\n",
      "2017-10-20       -1.0   1.0\n",
      "2017-10-19       -1.0  -1.0\n",
      "\n",
      "[1842 rows x 2 columns]\n"
     ]
    }
   ],
   "source": [
    "print(data[['direction', 'pred']])"
   ]
  },
  {
   "cell_type": "markdown",
   "id": "442e538a",
   "metadata": {},
   "source": [
    "## Evaluate the trade results incorporating SL and TP levels"
   ]
  },
  {
   "cell_type": "code",
   "execution_count": 14,
   "id": "c54290dc",
   "metadata": {},
   "outputs": [
    {
     "data": {
      "image/png": "[encoded data removed]",
      "text/plain": [
       "<Figure size 1200x600 with 1 Axes>"
      ]
     },
     "metadata": {},
     "output_type": "display_data"
    }
   ],
   "source": [
    "# Determine entry points based on the predicted direction and Bollinger Bands\n",
    "data['entry_signal'] = np.where((data['pred'] == 1) & (data['close'] > data['upper_band']), 1, \n",
    "                                np.where((data['pred'] == -1) & (data['close'] < data['lower_band']), -1, 0))\n",
    "\n",
    "# Set TP and SL levels (e.g., 8% above middle band for TP and 5% below middle band for SL)\n",
    "tp_percentage = 0.09\n",
    "sl_percentage = 0.05\n",
    "\n",
    "# Calculate TP and SL prices based on the middle Bollinger Band\n",
    "data['entry_price'] = np.where(data['entry_signal'] != 0, data['close'], np.nan)\n",
    "data['tp_price'] = data['middle_band'] * (1 + tp_percentage)\n",
    "data['sl_price'] = data['middle_band'] * (1 - sl_percentage)\n",
    "\n",
    "# Implement TP and SL conditions\n",
    "data['tp_hit'] = np.where(data['high'] >= data['tp_price'], 1, 0)\n",
    "data['sl_hit'] = np.where(data['low'] <= data['sl_price'], 1, 0)\n",
    "\n",
    "# Visualize entry, TP, and SL points\n",
    "plt.figure(figsize=(12, 6))\n",
    "plt.plot(data.index, data['close'], label='Close Price', color='black')\n",
    "plt.plot(data.index, data['upper_band'], label='Upper Bollinger Band', color='blue', linestyle='--')\n",
    "plt.plot(data.index, data['lower_band'], label='Lower Bollinger Band', color='red', linestyle='--')\n",
    "plt.plot(data.index, data['middle_band'], label='Middle Bollinger Band', color='green', linestyle='--')\n",
    "plt.scatter(data[data['entry_signal'] == 1].index, data[data['entry_signal'] == 1]['close'], label='Long Entry', color='green', marker='^', linewidths=5)\n",
    "plt.scatter(data[data['entry_signal'] == -1].index, data[data['entry_signal'] == -1]['close'], label='Short Entry', color='red', marker='v', linewidths=5)\n",
    "plt.scatter(data[data['tp_hit'] == 1].index, data[data['tp_hit'] == 1]['tp_price'], label='Take-Profit', color='blue', marker='o', linewidths=5)\n",
    "plt.scatter(data[data['sl_hit'] == 1].index, data[data['sl_hit'] == 1]['sl_price'], label='Stop-Loss', color='orange', marker='o', linewidths=5)\n",
    "plt.title('Bollinger Bands with Entry, TP, and SL Points')\n",
    "plt.xlabel('Date')\n",
    "plt.ylabel('Price')\n",
    "plt.legend()\n",
    "plt.show()"
   ]
  },
  {
   "cell_type": "markdown",
   "id": "594fe13b",
   "metadata": {},
   "source": [
    "## Evaluate model performance"
   ]
  },
  {
   "cell_type": "code",
   "execution_count": 15,
   "id": "2d5fe114",
   "metadata": {},
   "outputs": [
    {
     "name": "stdout",
     "output_type": "stream",
     "text": [
      "Fitting the logistic regression model...\n",
      "Logistic regression model is fitted.\n",
      "Total Trades: 1842\n",
      "Profitable Trades: 235\n",
      "Total Profit: 23714.17449525172\n",
      "Average Profit per Trade: 12.874144677118197\n"
     ]
    }
   ],
   "source": [
    "# Fit Logistic Regression model\n",
    "print(\"Fitting the logistic regression model...\")\n",
    "lm.fit(X, y)\n",
    "\n",
    "# Verify if the model is fitted\n",
    "if lm.__getstate__():\n",
    "    print(\"Logistic regression model is fitted.\")\n",
    "else:\n",
    "    print(\"Logistic regression model is not fitted.\")\n",
    "\n",
    "# Calculate the predictions\n",
    "predictions = lm.predict(X)\n",
    "\n",
    "# Evaluate trade results\n",
    "trades = pd.DataFrame(index=data.index)\n",
    "trades['actual_direction'] = data['direction']\n",
    "trades['predicted_direction'] = predictions\n",
    "\n",
    "# Calculate TP and SL prices\n",
    "tp_price = data['close'] * (1 + tp_percentage)\n",
    "sl_price = data['close'] * (1 - sl_percentage)\n",
    "\n",
    "# Evaluate trade results\n",
    "trades['tp_hit'] = np.where(data['high'] >= tp_price, 1, 0)\n",
    "trades['sl_hit'] = np.where(data['low'] <= sl_price, 1, 0)\n",
    "trades['profit'] = np.where((trades['predicted_direction'] == 1) & (trades['tp_hit'] == 1), (tp_price - data['close']), np.where((trades['predicted_direction'] == -1) & (trades['tp_hit'] == 1), (data['close'] - tp_price), np.where((trades['predicted_direction'] == 1) & (trades['sl_hit'] == 1), (sl_price - data['close']), np.where((trades['predicted_direction'] == -1) & (trades['sl_hit'] == 1), (data['close'] - sl_price), 0))))\n",
    "\n",
    "# Calculate trade performance metrics\n",
    "total_trades = len(trades)\n",
    "profitable_trades = (trades['profit'] > 0).sum()\n",
    "total_profit = trades['profit'].sum()\n",
    "average_profit_per_trade = total_profit / total_trades\n",
    "\n",
    "# Print trade performance metrics\n",
    "print(\"Total Trades:\", total_trades)\n",
    "print(\"Profitable Trades:\", profitable_trades)\n",
    "print(\"Total Profit:\", total_profit)\n",
    "print(\"Average Profit per Trade:\", average_profit_per_trade)\n"
   ]
  },
  {
   "cell_type": "code",
   "execution_count": 16,
   "id": "36a73e15",
   "metadata": {},
   "outputs": [
    {
     "name": "stdout",
     "output_type": "stream",
     "text": [
      "Total Trades: 1842\n",
      "Profitable Trades: 235\n",
      "Total Profit: 23714.17449525172\n",
      "Average Profit per Trade: 12.874144677118197\n",
      "Maximum Drawdown: -9724.630000000005\n",
      "Profit Factor: -0.10014907621456094\n"
     ]
    }
   ],
   "source": [
    "# Filter profitable trades\n",
    "profitable_trades_df = trades[trades['profit'] > 0]\n",
    "\n",
    "# Calculate additional metrics\n",
    "total_trades = len(trades)\n",
    "profitable_trades = len(profitable_trades_df)\n",
    "total_profit = trades['profit'].sum()\n",
    "average_profit_per_trade = total_profit / total_trades\n",
    "max_drawdown = trades['profit'].cumsum().min()\n",
    "profit_factor = total_profit / trades[trades['profit'] < 0]['profit'].sum()\n",
    "\n",
    "# Print the refined evaluation metrics\n",
    "print(\"Total Trades:\", total_trades)\n",
    "print(\"Profitable Trades:\", profitable_trades)\n",
    "print(\"Total Profit:\", total_profit)\n",
    "print(\"Average Profit per Trade:\", average_profit_per_trade)\n",
    "print(\"Maximum Drawdown:\", max_drawdown)\n",
    "print(\"Profit Factor:\", profit_factor)"
   ]
  },
  {
   "cell_type": "markdown",
   "id": "78365eb6",
   "metadata": {},
   "source": [
    "## Bar plot count of correct and incorrect predictions"
   ]
  },
  {
   "cell_type": "code",
   "execution_count": 17,
   "id": "96505fa4",
   "metadata": {},
   "outputs": [
    {
     "data": {
      "image/png": "[encoded data removed]",
      "text/plain": [
       "<Figure size 640x480 with 1 Axes>"
      ]
     },
     "metadata": {},
     "output_type": "display_data"
    }
   ],
   "source": [
    "import matplotlib.pyplot as plt\n",
    "\n",
    "# Count correct and incorrect predictions\n",
    "correct_predictions = ((data['direction'] == 1) & (data['pred'] == 1)).sum() + ((data['direction'] == -1) & (data['pred'] == -1)).sum()\n",
    "incorrect_predictions = ((data['direction'] == 1) & (data['pred'] == -1)).sum() + ((data['direction'] == -1) & (data['pred'] == 1)).sum()\n",
    "\n",
    "# Plot\n",
    "plt.bar(['Correct Predictions', 'Incorrect Predictions'], [correct_predictions, incorrect_predictions], color=['green', 'red'])\n",
    "plt.title('Comparison of Actual vs Predicted Direction')\n",
    "plt.xlabel('Prediction Outcome')\n",
    "plt.ylabel('Count')\n",
    "plt.show()"
   ]
  },
  {
   "cell_type": "markdown",
   "id": "593dbcfe",
   "metadata": {},
   "source": [
    "## Save the trained model"
   ]
  },
  {
   "cell_type": "code",
   "execution_count": 18,
   "id": "042b947f",
   "metadata": {},
   "outputs": [
    {
     "name": "stdout",
     "output_type": "stream",
     "text": [
      "Model saved successfully to logreg_with_bollinger.pkl\n",
      "Loaded model matches the original model.\n"
     ]
    }
   ],
   "source": [
    "import pickle\n",
    "\n",
    "# Attempt to save the model to a pickle file\n",
    "try:\n",
    "    # Open the file in binary write mode\n",
    "    with open(\"logreg_with_bollinger.pkl\", \"wb\") as f:\n",
    "        # Dump the object into the file\n",
    "        pickle.dump(lm, f)\n",
    "    print(\"Model saved successfully to logreg_with_bollinger.pkl\")\n",
    "except Exception as e:\n",
    "    print(\"Error occurred while saving the model:\", e)\n",
    "\n",
    "# Attempt to load the saved model back from the pickle file and verify its integrity\n",
    "try:\n",
    "    # Open the file in binary read mode\n",
    "    with open(\"logreg_with_bollinger.pkl\", \"rb\") as f:\n",
    "        # Load the model from the file\n",
    "        loaded_model = pickle.load(f)\n",
    "    # Check if the loaded model matches the original model\n",
    "    if str(loaded_model) == str(lm):\n",
    "        print(\"Loaded model matches the original model.\")\n",
    "    else:\n",
    "        print(\"Error: Loaded model does not match the original model.\")\n",
    "except Exception as e:\n",
    "    print(\"Error occurred while loading the saved model:\", e)"
   ]
  },
  {
   "cell_type": "code",
   "execution_count": null,
   "id": "61e7d866",
   "metadata": {},
   "outputs": [],
   "source": []
  },
  {
   "cell_type": "markdown",
   "id": "eeb1e951",
   "metadata": {},
   "source": [
    "# machine learning implementation"
   ]
  },
  {
   "cell_type": "code",
   "execution_count": 19,
   "id": "e9ee4b34",
   "metadata": {},
   "outputs": [],
   "source": [
    "import pandas as pd\n",
    "import os\n",
    "import numpy as np\n",
    "from sklearn.linear_model import LogisticRegression\n",
    "import ccxt\n",
    "from datetime import datetime, timedelta\n",
    "import time\n",
    "import pickle\n",
    "import logging \n",
    "from pytz import UTC\n",
    "import talib"
   ]
  },
  {
   "cell_type": "code",
   "execution_count": 20,
   "id": "02ee3dd6",
   "metadata": {},
   "outputs": [],
   "source": [
    "class MLTrader:\n",
    "    def __init__(self, instrument, lags, model_path, units, leverage):\n",
    "        self.instrument = instrument\n",
    "        self.leverage = leverage\n",
    "        self.exchange = ccxt.kucoinfutures({\n",
    "            'apiKey': os.getenv('API_KEY'),\n",
    "            'secret': os.getenv('SECRET_KEY'),\n",
    "            'password': os.getenv('PASSPHRASE'),\n",
    "            'enableRateLimit': True\n",
    "        })\n",
    "        self.bar_length = \"1h\"\n",
    "        self.tick_data = pd.DataFrame()\n",
    "        self.raw_data = None\n",
    "        self.data = None \n",
    "        self.last_bar = None\n",
    "        self.units = units\n",
    "        self.position = 0\n",
    "        self.profits = []\n",
    "        self.lags = lags\n",
    "        self.load_model(model_path)\n",
    "                \n",
    "    def load_model(self, model_path):\n",
    "        try:\n",
    "            self.model = pickle.load(open(model_path, \"rb\"))\n",
    "        except Exception as e:\n",
    "            logging.error(f\"Error loading model: {e}\")\n",
    "            raise   \n",
    "                \n",
    "    def get_most_recent(self, days=5, data_count=0, stop_condition=200):\n",
    "        while True:\n",
    "            time.sleep(2)\n",
    "            now_utc = datetime.utcnow().replace(tzinfo=UTC)  # Make current time timezone-aware\n",
    "            past_utc = now_utc - timedelta(days=days)\n",
    "            ohlcv = self.exchange.fetch_ohlcv(self.instrument, timeframe=self.bar_length,\n",
    "                                               since=int(past_utc.timestamp()) * 1000)\n",
    "            df = pd.DataFrame(ohlcv, columns=[\"timestamp\", \"open\", \"high\", \"low\", \"close\", \"volume\"])\n",
    "            df[\"timestamp\"] = pd.to_datetime(df[\"timestamp\"], unit=\"ms\")\n",
    "            df.set_index(\"timestamp\", inplace=True)\n",
    "\n",
    "            # Append fetched data to raw_data\n",
    "            if self.raw_data is None:\n",
    "                self.raw_data = df\n",
    "            else:\n",
    "                self.raw_data = pd.concat([self.raw_data, df])\n",
    "\n",
    "            self.last_bar = self.raw_data.index[-1].replace(tzinfo=UTC)  # Make last bar timezone-aware\n",
    "\n",
    "            # Check if stop condition is met\n",
    "            if len(self.raw_data) >= stop_condition:\n",
    "                break\n",
    "\n",
    "            # Check if last fetched data is within the desired timeframe\n",
    "            if now_utc - self.last_bar < pd.to_timedelta(self.bar_length):\n",
    "                break\n",
    "\n",
    "                \n",
    "    def on_success(self, time, bid, ask):\n",
    "        print(self.ticks, end = \" \")\n",
    "        \n",
    "        recent_tick = pd.to_datetime(time)\n",
    "        df = pd.DataFrame({self.instrument:(ask + bid)/2}, \n",
    "                          index = [recent_tick])\n",
    "        self.tick_data = pd.concat([self.tick_data, df]) # new with pd.concat()\n",
    "        \n",
    "        if recent_tick - self.last_bar > pd.to_timedelta(self.bar_length):\n",
    "            self.resample_and_join()\n",
    "            self.define_strategy()\n",
    "            self.execute_trades()\n",
    "    \n",
    "    def resample_and_join(self):\n",
    "        self.raw_data = pd.concat([self.raw_data, self.tick_data.resample(self.bar_length, \n",
    "                                                                          label=\"right\").last().ffill().iloc[:-1]])\n",
    "        self.tick_data = self.tick_data.iloc[-1:]\n",
    "        self.last_bar = self.raw_data.index[-1]\n",
    "    \n",
    "    def define_strategy(self):\n",
    "        if self.raw_data is not None and not self.raw_data.empty:\n",
    "            df = self.raw_data.copy()\n",
    "\n",
    "            #******************** define your strategy here ************************\n",
    "            print(\"Raw data before concatenation:\")\n",
    "            print(df)\n",
    "\n",
    "            df = pd.concat([df, self.tick_data]) # new with pd.concat\n",
    "\n",
    "            print(\"Raw data after concatenation with tick data:\")\n",
    "            print(df)\n",
    "\n",
    "            df[\"returns\"] = np.log(df[\"close\"] / df[\"close\"].shift())\n",
    "            cols = []\n",
    "            for lag in range(1, self.lags + 1):\n",
    "                col = \"lag{}\".format(lag)\n",
    "                df[col] = df[\"returns\"].shift(lag)\n",
    "                cols.append(col)\n",
    "            df.dropna(inplace = True)\n",
    "            \n",
    "            # Calculate Bollinger Bands\n",
    "            df['middle_band'], df['upper_band'], df['lower_band'] = talib.BBANDS(df['close'], timeperiod=20, nbdevup=2, nbdevdn=2, matype=0)\n",
    "\n",
    "            print(\"Preprocessed data with lag features and Bollinger Bands:\")\n",
    "            print(df)\n",
    "\n",
    "            # Use lm.predict instead of self.model.predict\n",
    "            predicted_positions = self.model.predict(df[cols])\n",
    "            df[\"position\"] = predicted_positions\n",
    "\n",
    "            print(\"Data with predicted positions:\")\n",
    "            print(df)\n",
    "            #***********************************************************************\n",
    "\n",
    "            self.data = df.copy()\n",
    "        else:\n",
    "            print(\"Raw data is empty or None. Cannot define strategy.\")\n",
    "    \n",
    "    def execute_trades(self):\n",
    "        if self.data is None or self.data.empty:\n",
    "            logging.warning(\"No data available for trading.\")\n",
    "            return\n",
    "        \n",
    "        trading_signal = \"long\" if self.data[\"position\"].iloc[-1] == 1 else (\"short\" if self.data[\"position\"].iloc[-1] == -1 else \"neutral\")\n",
    "        trading_size = self.units * 2 if abs(self.position) == 1 else self.units\n",
    "        \n",
    "        if self.position != 0:\n",
    "            side = 'buy' if trading_signal == 'long' else 'sell'\n",
    "            limit_order_params = {\n",
    "                'symbol': self.instrument,\n",
    "                'type': 'limit',\n",
    "                'side': side,\n",
    "                'amount': trading_size,\n",
    "                'price': self.data['close'].iloc[-1],\n",
    "                'params': {\n",
    "                    'postOnly': False,\n",
    "                    'timeInForce': 'GTC',\n",
    "                    'leverage': self.leverage,\n",
    "                }\n",
    "            }\n",
    "            \n",
    "            try:\n",
    "                order = self.exchange.create_order(**limit_order_params)\n",
    "                self.report_trade(order, f\"GOING {trading_signal.upper()}\")\n",
    "                self.position = 0  # Reset position after executing trade\n",
    "            except Exception as e:\n",
    "                logging.error(f\"Error executing trade: {e}\")\n",
    "        else:  # Additional logic for the case when self.position == 0\n",
    "            if self.data[\"position\"].iloc[-1] == 1:\n",
    "                order = self.exchange.create_order(self.instrument, 'limit', 'buy', self.units, suppress=True, ret=True)\n",
    "                self.report_trade(order, \"GOING LONG\")\n",
    "                self.position = 1\n",
    "            elif self.data[\"position\"].iloc[-1] == -1:\n",
    "                order = self.exchange.create_order(self.instrument, 'limit', 'sell', self.units, suppress=True, ret=True)\n",
    "                self.report_trade(order, \"GOING SHORT\")\n",
    "                self.position = -1\n",
    "            else:  # self.data[\"position\"].iloc[-1] == 0\n",
    "                logging.info(\"No trading signal, position remains neutral.\")\n",
    "                self.position = 0  # Reset position to ensure it remains neutral\n",
    "    \n",
    "    def report_trade(self, order, going):\n",
    "        time = order[\"time\"]\n",
    "        units = order[\"units\"]\n",
    "        price = order[\"price\"]\n",
    "        pl = float(order[\"pl\"])\n",
    "        self.profits.append(pl)\n",
    "        cumpl = sum(self.profits)\n",
    "        print(\"\\n\" + 100* \"-\")\n",
    "        print(\"{} | {}\".format(time, going))\n",
    "        print(\"{} | units = {} | price = {} | P&L = {} | Cum P&L = {}\".format(time, units, price, pl, cumpl))\n",
    "        print(100 * \"-\" + \"\\n\")\n"
   ]
  },
  {
   "cell_type": "code",
   "execution_count": 21,
   "id": "5881292a",
   "metadata": {},
   "outputs": [],
   "source": [
    "lm = LogisticRegression(C = 1e6, max_iter = 100000, multi_class = \"ovr\")"
   ]
  },
  {
   "cell_type": "code",
   "execution_count": 22,
   "id": "bf73adc5",
   "metadata": {},
   "outputs": [
    {
     "data": {
      "text/html": [
       "<style>#sk-container-id-2 {color: black;}#sk-container-id-2 pre{padding: 0;}#sk-container-id-2 div.sk-toggleable {background-color: white;}#sk-container-id-2 label.sk-toggleable__label {cursor: pointer;display: block;width: 100%;margin-bottom: 0;padding: 0.3em;box-sizing: border-box;text-align: center;}#sk-container-id-2 label.sk-toggleable__label-arrow:before {content: \"▸\";float: left;margin-right: 0.25em;color: #696969;}#sk-container-id-2 label.sk-toggleable__label-arrow:hover:before {color: black;}#sk-container-id-2 div.sk-estimator:hover label.sk-toggleable__label-arrow:before {color: black;}#sk-container-id-2 div.sk-toggleable__content {max-height: 0;max-width: 0;overflow: hidden;text-align: left;background-color: #f0f8ff;}#sk-container-id-2 div.sk-toggleable__content pre {margin: 0.2em;color: black;border-radius: 0.25em;background-color: #f0f8ff;}#sk-container-id-2 input.sk-toggleable__control:checked~div.sk-toggleable__content {max-height: 200px;max-width: 100%;overflow: auto;}#sk-container-id-2 input.sk-toggleable__control:checked~label.sk-toggleable__label-arrow:before {content: \"▾\";}#sk-container-id-2 div.sk-estimator input.sk-toggleable__control:checked~label.sk-toggleable__label {background-color: #d4ebff;}#sk-container-id-2 div.sk-label input.sk-toggleable__control:checked~label.sk-toggleable__label {background-color: #d4ebff;}#sk-container-id-2 input.sk-hidden--visually {border: 0;clip: rect(1px 1px 1px 1px);clip: rect(1px, 1px, 1px, 1px);height: 1px;margin: -1px;overflow: hidden;padding: 0;position: absolute;width: 1px;}#sk-container-id-2 div.sk-estimator {font-family: monospace;background-color: #f0f8ff;border: 1px dotted black;border-radius: 0.25em;box-sizing: border-box;margin-bottom: 0.5em;}#sk-container-id-2 div.sk-estimator:hover {background-color: #d4ebff;}#sk-container-id-2 div.sk-parallel-item::after {content: \"\";width: 100%;border-bottom: 1px solid gray;flex-grow: 1;}#sk-container-id-2 div.sk-label:hover label.sk-toggleable__label {background-color: #d4ebff;}#sk-container-id-2 div.sk-serial::before {content: \"\";position: absolute;border-left: 1px solid gray;box-sizing: border-box;top: 0;bottom: 0;left: 50%;z-index: 0;}#sk-container-id-2 div.sk-serial {display: flex;flex-direction: column;align-items: center;background-color: white;padding-right: 0.2em;padding-left: 0.2em;position: relative;}#sk-container-id-2 div.sk-item {position: relative;z-index: 1;}#sk-container-id-2 div.sk-parallel {display: flex;align-items: stretch;justify-content: center;background-color: white;position: relative;}#sk-container-id-2 div.sk-item::before, #sk-container-id-2 div.sk-parallel-item::before {content: \"\";position: absolute;border-left: 1px solid gray;box-sizing: border-box;top: 0;bottom: 0;left: 50%;z-index: -1;}#sk-container-id-2 div.sk-parallel-item {display: flex;flex-direction: column;z-index: 1;position: relative;background-color: white;}#sk-container-id-2 div.sk-parallel-item:first-child::after {align-self: flex-end;width: 50%;}#sk-container-id-2 div.sk-parallel-item:last-child::after {align-self: flex-start;width: 50%;}#sk-container-id-2 div.sk-parallel-item:only-child::after {width: 0;}#sk-container-id-2 div.sk-dashed-wrapped {border: 1px dashed gray;margin: 0 0.4em 0.5em 0.4em;box-sizing: border-box;padding-bottom: 0.4em;background-color: white;}#sk-container-id-2 div.sk-label label {font-family: monospace;font-weight: bold;display: inline-block;line-height: 1.2em;}#sk-container-id-2 div.sk-label-container {text-align: center;}#sk-container-id-2 div.sk-container {/* jupyter's `normalize.less` sets `[hidden] { display: none; }` but bootstrap.min.css set `[hidden] { display: none !important; }` so we also need the `!important` here to be able to override the default hidden behavior on the sphinx rendered scikit-learn.org. See: https://github.com/scikit-learn/scikit-learn/issues/21755 */display: inline-block !important;position: relative;}#sk-container-id-2 div.sk-text-repr-fallback {display: none;}</style><div id=\"sk-container-id-2\" class=\"sk-top-container\"><div class=\"sk-text-repr-fallback\"><pre>LogisticRegression(C=1000000.0, max_iter=100000, multi_class=&#x27;ovr&#x27;)</pre><b>In a Jupyter environment, please rerun this cell to show the HTML representation or trust the notebook. <br />On GitHub, the HTML representation is unable to render, please try loading this page with nbviewer.org.</b></div><div class=\"sk-container\" hidden><div class=\"sk-item\"><div class=\"sk-estimator sk-toggleable\"><input class=\"sk-toggleable__control sk-hidden--visually\" id=\"sk-estimator-id-2\" type=\"checkbox\" checked><label for=\"sk-estimator-id-2\" class=\"sk-toggleable__label sk-toggleable__label-arrow\">LogisticRegression</label><div class=\"sk-toggleable__content\"><pre>LogisticRegression(C=1000000.0, max_iter=100000, multi_class=&#x27;ovr&#x27;)</pre></div></div></div></div></div>"
      ],
      "text/plain": [
       "LogisticRegression(C=1000000.0, max_iter=100000, multi_class='ovr')"
      ]
     },
     "execution_count": 22,
     "metadata": {},
     "output_type": "execute_result"
    }
   ],
   "source": [
    "lm"
   ]
  },
  {
   "cell_type": "code",
   "execution_count": null,
   "id": "a5a38634",
   "metadata": {
    "scrolled": false
   },
   "outputs": [
    {
     "name": "stdout",
     "output_type": "stream",
     "text": [
      "Updated data after fetching most recent historical data:\n",
      "                        open     high      low    close     volume\n",
      "timestamp                                                         \n",
      "2024-03-19 09:00:00  63472.5  64231.6  62981.1  64148.6  1420795.0\n",
      "2024-03-19 10:00:00  64145.5  64164.8  62699.0  63262.9  1067015.0\n",
      "2024-03-19 11:00:00  63267.9  63411.9  62516.0  63081.3   934713.0\n",
      "2024-03-19 12:00:00  63083.2  63838.7  63013.0  63656.8  1222467.0\n",
      "2024-03-19 13:00:00  63645.9  63884.9  63061.1  63565.7  1138079.0\n",
      "...                      ...      ...      ...      ...        ...\n",
      "2024-03-24 04:00:00  63966.8  64307.3  63766.0  64241.3   309128.0\n",
      "2024-03-24 05:00:00  64241.2  64402.3  64116.8  64316.3   149420.0\n",
      "2024-03-24 06:00:00  64313.3  64433.2  64092.8  64231.7   140206.0\n",
      "2024-03-24 07:00:00  64236.6  64600.0  64041.7  64600.0   148839.0\n",
      "2024-03-24 08:00:00  64599.9  65008.1  64488.9  64843.4   290356.0\n",
      "\n",
      "[120 rows x 5 columns]\n",
      "Raw data before concatenation:\n",
      "                        open     high      low    close     volume\n",
      "timestamp                                                         \n",
      "2024-03-19 09:00:00  63472.5  64231.6  62981.1  64148.6  1420795.0\n",
      "2024-03-19 10:00:00  64145.5  64164.8  62699.0  63262.9  1067015.0\n",
      "2024-03-19 11:00:00  63267.9  63411.9  62516.0  63081.3   934713.0\n",
      "2024-03-19 12:00:00  63083.2  63838.7  63013.0  63656.8  1222467.0\n",
      "2024-03-19 13:00:00  63645.9  63884.9  63061.1  63565.7  1138079.0\n",
      "...                      ...      ...      ...      ...        ...\n",
      "2024-03-24 04:00:00  63966.8  64307.3  63766.0  64241.3   309128.0\n",
      "2024-03-24 05:00:00  64241.2  64402.3  64116.8  64316.3   149420.0\n",
      "2024-03-24 06:00:00  64313.3  64433.2  64092.8  64231.7   140206.0\n",
      "2024-03-24 07:00:00  64236.6  64600.0  64041.7  64600.0   148839.0\n",
      "2024-03-24 08:00:00  64599.9  65008.1  64488.9  64843.4   290356.0\n",
      "\n",
      "[120 rows x 5 columns]\n",
      "Raw data after concatenation with tick data:\n",
      "                        open     high      low    close     volume\n",
      "timestamp                                                         \n",
      "2024-03-19 09:00:00  63472.5  64231.6  62981.1  64148.6  1420795.0\n",
      "2024-03-19 10:00:00  64145.5  64164.8  62699.0  63262.9  1067015.0\n",
      "2024-03-19 11:00:00  63267.9  63411.9  62516.0  63081.3   934713.0\n",
      "2024-03-19 12:00:00  63083.2  63838.7  63013.0  63656.8  1222467.0\n",
      "2024-03-19 13:00:00  63645.9  63884.9  63061.1  63565.7  1138079.0\n",
      "...                      ...      ...      ...      ...        ...\n",
      "2024-03-24 04:00:00  63966.8  64307.3  63766.0  64241.3   309128.0\n",
      "2024-03-24 05:00:00  64241.2  64402.3  64116.8  64316.3   149420.0\n",
      "2024-03-24 06:00:00  64313.3  64433.2  64092.8  64231.7   140206.0\n",
      "2024-03-24 07:00:00  64236.6  64600.0  64041.7  64600.0   148839.0\n",
      "2024-03-24 08:00:00  64599.9  65008.1  64488.9  64843.4   290356.0\n",
      "\n",
      "[120 rows x 5 columns]\n",
      "Preprocessed data with lag features and Bollinger Bands:\n",
      "                        open     high      low    close     volume   returns  \\\n",
      "timestamp                                                                      \n",
      "2024-03-19 13:00:00  63645.9  63884.9  63061.1  63565.7  1138079.0 -0.001432   \n",
      "2024-03-19 14:00:00  63566.7  63572.4  62422.4  62877.8  1762415.0 -0.010881   \n",
      "2024-03-19 15:00:00  62877.8  64192.8  62600.2  64059.3  1799776.0  0.018616   \n",
      "2024-03-19 16:00:00  64060.5  65054.7  63982.0  64974.3  1309885.0  0.014183   \n",
      "2024-03-19 17:00:00  64974.3  65747.7  64628.5  64869.7  1392155.0 -0.001611   \n",
      "...                      ...      ...      ...      ...        ...       ...   \n",
      "2024-03-24 04:00:00  63966.8  64307.3  63766.0  64241.3   309128.0  0.004282   \n",
      "2024-03-24 05:00:00  64241.2  64402.3  64116.8  64316.3   149420.0  0.001167   \n",
      "2024-03-24 06:00:00  64313.3  64433.2  64092.8  64231.7   140206.0 -0.001316   \n",
      "2024-03-24 07:00:00  64236.6  64600.0  64041.7  64600.0   148839.0  0.005718   \n",
      "2024-03-24 08:00:00  64599.9  65008.1  64488.9  64843.4   290356.0  0.003761   \n",
      "\n",
      "                         lag1      lag2      lag3   middle_band  upper_band  \\\n",
      "timestamp                                                                     \n",
      "2024-03-19 13:00:00  0.009082 -0.002875 -0.013903           NaN         NaN   \n",
      "2024-03-19 14:00:00 -0.001432  0.009082 -0.002875           NaN         NaN   \n",
      "2024-03-19 15:00:00 -0.010881 -0.001432  0.009082           NaN         NaN   \n",
      "2024-03-19 16:00:00  0.018616 -0.010881 -0.001432           NaN         NaN   \n",
      "2024-03-19 17:00:00  0.014183  0.018616 -0.010881           NaN         NaN   \n",
      "...                       ...       ...       ...           ...         ...   \n",
      "2024-03-24 04:00:00 -0.004962 -0.003026 -0.000769  65698.424112   64743.185   \n",
      "2024-03-24 05:00:00  0.004282 -0.004962 -0.003026  65701.841976   64735.190   \n",
      "2024-03-24 06:00:00  0.001167  0.004282 -0.004962  65706.283881   64729.940   \n",
      "2024-03-24 07:00:00 -0.001316  0.001167  0.004282  65705.239684   64728.040   \n",
      "2024-03-24 08:00:00  0.005718 -0.001316  0.001167  65713.315644   64734.900   \n",
      "\n",
      "                       lower_band  \n",
      "timestamp                          \n",
      "2024-03-19 13:00:00           NaN  \n",
      "2024-03-19 14:00:00           NaN  \n",
      "2024-03-19 15:00:00           NaN  \n",
      "2024-03-19 16:00:00           NaN  \n",
      "2024-03-19 17:00:00           NaN  \n",
      "...                           ...  \n",
      "2024-03-24 04:00:00  63787.945888  \n",
      "2024-03-24 05:00:00  63768.538024  \n",
      "2024-03-24 06:00:00  63753.596119  \n",
      "2024-03-24 07:00:00  63750.840316  \n",
      "2024-03-24 08:00:00  63756.484356  \n",
      "\n",
      "[116 rows x 12 columns]\n",
      "Data with predicted positions:\n",
      "                        open     high      low    close     volume   returns  \\\n",
      "timestamp                                                                      \n",
      "2024-03-19 13:00:00  63645.9  63884.9  63061.1  63565.7  1138079.0 -0.001432   \n",
      "2024-03-19 14:00:00  63566.7  63572.4  62422.4  62877.8  1762415.0 -0.010881   \n",
      "2024-03-19 15:00:00  62877.8  64192.8  62600.2  64059.3  1799776.0  0.018616   \n",
      "2024-03-19 16:00:00  64060.5  65054.7  63982.0  64974.3  1309885.0  0.014183   \n",
      "2024-03-19 17:00:00  64974.3  65747.7  64628.5  64869.7  1392155.0 -0.001611   \n",
      "...                      ...      ...      ...      ...        ...       ...   \n",
      "2024-03-24 04:00:00  63966.8  64307.3  63766.0  64241.3   309128.0  0.004282   \n",
      "2024-03-24 05:00:00  64241.2  64402.3  64116.8  64316.3   149420.0  0.001167   \n",
      "2024-03-24 06:00:00  64313.3  64433.2  64092.8  64231.7   140206.0 -0.001316   \n",
      "2024-03-24 07:00:00  64236.6  64600.0  64041.7  64600.0   148839.0  0.005718   \n",
      "2024-03-24 08:00:00  64599.9  65008.1  64488.9  64843.4   290356.0  0.003761   \n",
      "\n",
      "                         lag1      lag2      lag3   middle_band  upper_band  \\\n",
      "timestamp                                                                     \n",
      "2024-03-19 13:00:00  0.009082 -0.002875 -0.013903           NaN         NaN   \n",
      "2024-03-19 14:00:00 -0.001432  0.009082 -0.002875           NaN         NaN   \n",
      "2024-03-19 15:00:00 -0.010881 -0.001432  0.009082           NaN         NaN   \n",
      "2024-03-19 16:00:00  0.018616 -0.010881 -0.001432           NaN         NaN   \n",
      "2024-03-19 17:00:00  0.014183  0.018616 -0.010881           NaN         NaN   \n",
      "...                       ...       ...       ...           ...         ...   \n",
      "2024-03-24 04:00:00 -0.004962 -0.003026 -0.000769  65698.424112   64743.185   \n",
      "2024-03-24 05:00:00  0.004282 -0.004962 -0.003026  65701.841976   64735.190   \n",
      "2024-03-24 06:00:00  0.001167  0.004282 -0.004962  65706.283881   64729.940   \n",
      "2024-03-24 07:00:00 -0.001316  0.001167  0.004282  65705.239684   64728.040   \n",
      "2024-03-24 08:00:00  0.005718 -0.001316  0.001167  65713.315644   64734.900   \n",
      "\n",
      "                       lower_band  position  \n",
      "timestamp                                    \n",
      "2024-03-19 13:00:00           NaN      -1.0  \n",
      "2024-03-19 14:00:00           NaN      -1.0  \n",
      "2024-03-19 15:00:00           NaN      -1.0  \n",
      "2024-03-19 16:00:00           NaN      -1.0  \n",
      "2024-03-19 17:00:00           NaN      -1.0  \n",
      "...                           ...       ...  \n",
      "2024-03-24 04:00:00  63787.945888      -1.0  \n",
      "2024-03-24 05:00:00  63768.538024      -1.0  \n",
      "2024-03-24 06:00:00  63753.596119      -1.0  \n",
      "2024-03-24 07:00:00  63750.840316      -1.0  \n",
      "2024-03-24 08:00:00  63756.484356      -1.0  \n",
      "\n",
      "[116 rows x 13 columns]\n",
      "Signal detected or generated:\n",
      "-1.0\n"
     ]
    },
    {
     "name": "stdout",
     "output_type": "stream",
     "text": [
      "Updated data after fetching most recent historical data:\n",
      "                        open     high      low    close     volume\n",
      "timestamp                                                         \n",
      "2024-03-19 09:00:00  63472.5  64231.6  62981.1  64148.6  1420795.0\n",
      "2024-03-19 10:00:00  64145.5  64164.8  62699.0  63262.9  1067015.0\n",
      "2024-03-19 11:00:00  63267.9  63411.9  62516.0  63081.3   934713.0\n",
      "2024-03-19 12:00:00  63083.2  63838.7  63013.0  63656.8  1222467.0\n",
      "2024-03-19 13:00:00  63645.9  63884.9  63061.1  63565.7  1138079.0\n",
      "...                      ...      ...      ...      ...        ...\n",
      "2024-03-24 04:00:00  63966.8  64307.3  63766.0  64241.3   309128.0\n",
      "2024-03-24 05:00:00  64241.2  64402.3  64116.8  64316.3   149420.0\n",
      "2024-03-24 06:00:00  64313.3  64433.2  64092.8  64231.7   140206.0\n",
      "2024-03-24 07:00:00  64236.6  64600.0  64041.7  64600.0   148839.0\n",
      "2024-03-24 08:00:00  64599.9  65008.1  64488.9  64823.0   298871.0\n",
      "\n",
      "[240 rows x 5 columns]\n",
      "Raw data before concatenation:\n",
      "                        open     high      low    close     volume\n",
      "timestamp                                                         \n",
      "2024-03-19 09:00:00  63472.5  64231.6  62981.1  64148.6  1420795.0\n",
      "2024-03-19 10:00:00  64145.5  64164.8  62699.0  63262.9  1067015.0\n",
      "2024-03-19 11:00:00  63267.9  63411.9  62516.0  63081.3   934713.0\n",
      "2024-03-19 12:00:00  63083.2  63838.7  63013.0  63656.8  1222467.0\n",
      "2024-03-19 13:00:00  63645.9  63884.9  63061.1  63565.7  1138079.0\n",
      "...                      ...      ...      ...      ...        ...\n",
      "2024-03-24 04:00:00  63966.8  64307.3  63766.0  64241.3   309128.0\n",
      "2024-03-24 05:00:00  64241.2  64402.3  64116.8  64316.3   149420.0\n",
      "2024-03-24 06:00:00  64313.3  64433.2  64092.8  64231.7   140206.0\n",
      "2024-03-24 07:00:00  64236.6  64600.0  64041.7  64600.0   148839.0\n",
      "2024-03-24 08:00:00  64599.9  65008.1  64488.9  64823.0   298871.0\n",
      "\n",
      "[240 rows x 5 columns]\n",
      "Raw data after concatenation with tick data:\n",
      "                        open     high      low    close     volume\n",
      "timestamp                                                         \n",
      "2024-03-19 09:00:00  63472.5  64231.6  62981.1  64148.6  1420795.0\n",
      "2024-03-19 10:00:00  64145.5  64164.8  62699.0  63262.9  1067015.0\n",
      "2024-03-19 11:00:00  63267.9  63411.9  62516.0  63081.3   934713.0\n",
      "2024-03-19 12:00:00  63083.2  63838.7  63013.0  63656.8  1222467.0\n",
      "2024-03-19 13:00:00  63645.9  63884.9  63061.1  63565.7  1138079.0\n",
      "...                      ...      ...      ...      ...        ...\n",
      "2024-03-24 04:00:00  63966.8  64307.3  63766.0  64241.3   309128.0\n",
      "2024-03-24 05:00:00  64241.2  64402.3  64116.8  64316.3   149420.0\n",
      "2024-03-24 06:00:00  64313.3  64433.2  64092.8  64231.7   140206.0\n",
      "2024-03-24 07:00:00  64236.6  64600.0  64041.7  64600.0   148839.0\n",
      "2024-03-24 08:00:00  64599.9  65008.1  64488.9  64823.0   298871.0\n",
      "\n",
      "[240 rows x 5 columns]\n",
      "Preprocessed data with lag features and Bollinger Bands:\n",
      "                        open     high      low    close     volume   returns  \\\n",
      "timestamp                                                                      \n",
      "2024-03-19 13:00:00  63645.9  63884.9  63061.1  63565.7  1138079.0 -0.001432   \n",
      "2024-03-19 14:00:00  63566.7  63572.4  62422.4  62877.8  1762415.0 -0.010881   \n",
      "2024-03-19 15:00:00  62877.8  64192.8  62600.2  64059.3  1799776.0  0.018616   \n",
      "2024-03-19 16:00:00  64060.5  65054.7  63982.0  64974.3  1309885.0  0.014183   \n",
      "2024-03-19 17:00:00  64974.3  65747.7  64628.5  64869.7  1392155.0 -0.001611   \n",
      "...                      ...      ...      ...      ...        ...       ...   \n",
      "2024-03-24 04:00:00  63966.8  64307.3  63766.0  64241.3   309128.0  0.004282   \n",
      "2024-03-24 05:00:00  64241.2  64402.3  64116.8  64316.3   149420.0  0.001167   \n",
      "2024-03-24 06:00:00  64313.3  64433.2  64092.8  64231.7   140206.0 -0.001316   \n",
      "2024-03-24 07:00:00  64236.6  64600.0  64041.7  64600.0   148839.0  0.005718   \n",
      "2024-03-24 08:00:00  64599.9  65008.1  64488.9  64823.0   298871.0  0.003446   \n",
      "\n",
      "                         lag1      lag2      lag3   middle_band  upper_band  \\\n",
      "timestamp                                                                     \n",
      "2024-03-19 13:00:00  0.009082 -0.002875 -0.013903           NaN         NaN   \n",
      "2024-03-19 14:00:00 -0.001432  0.009082 -0.002875           NaN         NaN   \n",
      "2024-03-19 15:00:00 -0.010881 -0.001432  0.009082           NaN         NaN   \n",
      "2024-03-19 16:00:00  0.018616 -0.010881 -0.001432           NaN         NaN   \n",
      "2024-03-19 17:00:00  0.014183  0.018616 -0.010881           NaN         NaN   \n",
      "...                       ...       ...       ...           ...         ...   \n",
      "2024-03-24 04:00:00 -0.004962 -0.003026 -0.000769  65698.424112   64743.185   \n",
      "2024-03-24 05:00:00  0.004282 -0.004962 -0.003026  65701.841976   64735.190   \n",
      "2024-03-24 06:00:00  0.001167  0.004282 -0.004962  65706.283881   64729.940   \n",
      "2024-03-24 07:00:00 -0.001316  0.001167  0.004282  65705.239684   64728.040   \n",
      "2024-03-24 08:00:00  0.005718 -0.001316  0.001167  65711.883519   64733.880   \n",
      "\n",
      "                       lower_band  \n",
      "timestamp                          \n",
      "2024-03-19 13:00:00           NaN  \n",
      "2024-03-19 14:00:00           NaN  \n",
      "2024-03-19 15:00:00           NaN  \n",
      "2024-03-19 16:00:00           NaN  \n",
      "2024-03-19 17:00:00           NaN  \n",
      "...                           ...  \n",
      "2024-03-24 04:00:00  63787.945888  \n",
      "2024-03-24 05:00:00  63768.538024  \n",
      "2024-03-24 06:00:00  63753.596119  \n",
      "2024-03-24 07:00:00  63750.840316  \n",
      "2024-03-24 08:00:00  63755.876481  \n",
      "\n",
      "[236 rows x 12 columns]\n",
      "Data with predicted positions:\n",
      "                        open     high      low    close     volume   returns  \\\n",
      "timestamp                                                                      \n",
      "2024-03-19 13:00:00  63645.9  63884.9  63061.1  63565.7  1138079.0 -0.001432   \n",
      "2024-03-19 14:00:00  63566.7  63572.4  62422.4  62877.8  1762415.0 -0.010881   \n",
      "2024-03-19 15:00:00  62877.8  64192.8  62600.2  64059.3  1799776.0  0.018616   \n",
      "2024-03-19 16:00:00  64060.5  65054.7  63982.0  64974.3  1309885.0  0.014183   \n",
      "2024-03-19 17:00:00  64974.3  65747.7  64628.5  64869.7  1392155.0 -0.001611   \n",
      "...                      ...      ...      ...      ...        ...       ...   \n",
      "2024-03-24 04:00:00  63966.8  64307.3  63766.0  64241.3   309128.0  0.004282   \n",
      "2024-03-24 05:00:00  64241.2  64402.3  64116.8  64316.3   149420.0  0.001167   \n",
      "2024-03-24 06:00:00  64313.3  64433.2  64092.8  64231.7   140206.0 -0.001316   \n",
      "2024-03-24 07:00:00  64236.6  64600.0  64041.7  64600.0   148839.0  0.005718   \n",
      "2024-03-24 08:00:00  64599.9  65008.1  64488.9  64823.0   298871.0  0.003446   \n",
      "\n",
      "                         lag1      lag2      lag3   middle_band  upper_band  \\\n",
      "timestamp                                                                     \n",
      "2024-03-19 13:00:00  0.009082 -0.002875 -0.013903           NaN         NaN   \n",
      "2024-03-19 14:00:00 -0.001432  0.009082 -0.002875           NaN         NaN   \n",
      "2024-03-19 15:00:00 -0.010881 -0.001432  0.009082           NaN         NaN   \n",
      "2024-03-19 16:00:00  0.018616 -0.010881 -0.001432           NaN         NaN   \n",
      "2024-03-19 17:00:00  0.014183  0.018616 -0.010881           NaN         NaN   \n",
      "...                       ...       ...       ...           ...         ...   \n",
      "2024-03-24 04:00:00 -0.004962 -0.003026 -0.000769  65698.424112   64743.185   \n",
      "2024-03-24 05:00:00  0.004282 -0.004962 -0.003026  65701.841976   64735.190   \n",
      "2024-03-24 06:00:00  0.001167  0.004282 -0.004962  65706.283881   64729.940   \n",
      "2024-03-24 07:00:00 -0.001316  0.001167  0.004282  65705.239684   64728.040   \n",
      "2024-03-24 08:00:00  0.005718 -0.001316  0.001167  65711.883519   64733.880   \n",
      "\n",
      "                       lower_band  position  \n",
      "timestamp                                    \n",
      "2024-03-19 13:00:00           NaN      -1.0  \n",
      "2024-03-19 14:00:00           NaN      -1.0  \n",
      "2024-03-19 15:00:00           NaN      -1.0  \n",
      "2024-03-19 16:00:00           NaN      -1.0  \n",
      "2024-03-19 17:00:00           NaN      -1.0  \n",
      "...                           ...       ...  \n",
      "2024-03-24 04:00:00  63787.945888      -1.0  \n",
      "2024-03-24 05:00:00  63768.538024      -1.0  \n",
      "2024-03-24 06:00:00  63753.596119      -1.0  \n",
      "2024-03-24 07:00:00  63750.840316      -1.0  \n",
      "2024-03-24 08:00:00  63755.876481      -1.0  \n",
      "\n",
      "[236 rows x 13 columns]\n",
      "Signal detected or generated:\n",
      "-1.0\n"
     ]
    }
   ],
   "source": [
    "lm = pickle.load(open(\"logreg.pkl\", \"rb\"))\n",
    "\n",
    "# Instantiate MLTrader object\n",
    "trader = MLTrader(instrument=\"BTC/USDT:USDT\", lags=3, model_path=\"logreg.pkl\", units=1, leverage=5)\n",
    "\n",
    "\n",
    "# Define the number of iterations or set to None for indefinite looping\n",
    "num_iterations = None  # Set to None for indefinite looping\n",
    "\n",
    "while num_iterations is None or num_iterations > 0:\n",
    "    # Fetch most recent historical data\n",
    "    trader.get_most_recent()\n",
    "    \n",
    "    # Print updated data value for debugging\n",
    "    print(\"Updated data after fetching most recent historical data:\")\n",
    "    print(trader.raw_data)\n",
    "\n",
    "    # Determine stop condition for fetching historical data\n",
    "    stop_condition = 200  # Number of data points to fetch\n",
    "    data_count = 0\n",
    "\n",
    "    # Initialize an empty DataFrame to store historical data\n",
    "    historical_data_df = pd.DataFrame()\n",
    "\n",
    "    # Fetch historical data until the stop condition is met\n",
    "    while data_count < stop_condition:\n",
    "        try:\n",
    "            # Fetch historical data using ccxt\n",
    "            historical_data = trader.exchange.fetch_ohlcv(trader.instrument, timeframe='1d', limit=200)\n",
    "\n",
    "            # Check if fetched data is empty\n",
    "            if not historical_data:\n",
    "                print(\"No more historical data available.\")\n",
    "                break\n",
    "\n",
    "            # Convert fetched data into a DataFrame\n",
    "            data_df = pd.DataFrame(historical_data, columns=['timestamp', 'open', 'high', 'low', 'close', 'volume'])\n",
    "\n",
    "            # Append the fetched data to the DataFrame containing historical data\n",
    "            historical_data_df = pd.concat([historical_data_df, data_df], ignore_index=True)\n",
    "\n",
    "            # Increment the data count by the number of data points fetched in this iteration\n",
    "            data_count += len(historical_data)\n",
    "\n",
    "            # Print debug information\n",
    "            #print(f\"Fetched {len(historical_data)} data points. Total: {data_count}/{stop_condition}\")\n",
    "\n",
    "        except ccxt.NetworkError as e:\n",
    "            print(f\"Network Error fetching historical data: {e}\")\n",
    "            break\n",
    "        except ccxt.ExchangeError as e:\n",
    "            print(f\"Exchange Error fetching historical data: {e}\")\n",
    "            break\n",
    "        except Exception as e:\n",
    "            print(f\"Error fetching historical data: {e}\")\n",
    "            \n",
    "    # Define trading strategy and print debug information\n",
    "    trader.define_strategy()\n",
    "    print(\"Signal detected or generated:\")\n",
    "    print(trader.data[\"position\"].iloc[-1])\n",
    "\n",
    "    # Check if there is an open position\n",
    "    if trader.position != 0:\n",
    "        try:\n",
    "            # Determine the trading signal\n",
    "            trading_signal = \"long\" if trader.position == 1 else \"short\" if trader.position == -1 else \"neutral\"\n",
    "            \n",
    "            # Create a market order to close the position\n",
    "            symbol = trader.exchange.market_id(trader.instrument)\n",
    "            close_order = trader.exchange.create_order(symbol, 'market', 'sell' if trader.position < 0 else 'buy',\n",
    "                                                       abs(trader.position * trader.units))\n",
    "            # Report the trade\n",
    "            trader.report_trade(close_order, f\"GOING NEUTRAL\")\n",
    "            trader.position = 0  # Reset position after executing trade\n",
    "        except Exception as e:\n",
    "            print(f\"Error executing close order: {e}\")\n",
    "\n",
    "    # Access the model attribute\n",
    "    trader.model\n",
    "\n",
    "    # Decrement the number of iterations\n",
    "    if num_iterations is not None:\n",
    "        num_iterations -= 1\n",
    "\n",
    "    # Sleep for 5 seconds before the next iteration\n",
    "    time.sleep(60)"
   ]
  },
  {
   "cell_type": "code",
   "execution_count": null,
   "id": "dda75b11",
   "metadata": {},
   "outputs": [],
   "source": []
  }
 ],
 "metadata": {
  "kernelspec": {
   "display_name": "Python 3 (ipykernel)",
   "language": "python",
   "name": "python3"
  },
  "language_info": {
   "codemirror_mode": {
    "name": "ipython",
    "version": 3
   },
   "file_extension": ".py",
   "mimetype": "text/x-python",
   "name": "python",
   "nbconvert_exporter": "python",
   "pygments_lexer": "ipython3",
   "version": "3.11.5"
  }
 },
 "nbformat": 4,
 "nbformat_minor": 5
}
